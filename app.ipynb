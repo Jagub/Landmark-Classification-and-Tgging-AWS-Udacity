{
 "cells": [
  {
   "cell_type": "markdown",
   "id": "662ba368",
   "metadata": {},
   "source": [
    "# Convolutional Neural Networks\n",
    "\n",
    "## Project: Write an Algorithm for Landmark Classification\n",
    "\n",
    "### A simple app\n",
    "\n",
    "In this notebook we build a very simple app that uses our exported model.\n",
    "\n",
    "> <img src=\"static_images/icons/noun-info-2558213.png\" alt=\"?\" style=\"width:25px\"/> Note how we are not importing anything from our source code (we do not use any module from the ``src`` directory). This is because the exported model, differently from the model weights, is a standalone serialization of our model and therefore it does not need anything else. You can ship that file to anybody, and as long as they can import ``torch``, they will be able to use your model. This is very important for releasing pytorch models to production.\n",
    "\n",
    "### Test your app\n",
    "Go to a search engine for images (like Google Images) and search for images of some of the landmarks, like the Eiffel Tower, the Golden Gate Bridge, Machu Picchu and so on. Save a few examples locally, then upload them to your app to see how your model behaves!\n",
    "\n",
    "The app will show the top 5 classes that the model think are most relevant for the picture you have uploaded"
   ]
  },
  {
   "cell_type": "code",
   "execution_count": 1,
   "id": "70faa185-face-4489-afbf-84c8f437fb49",
   "metadata": {},
   "outputs": [
    {
     "name": "stdout",
     "output_type": "stream",
     "text": [
      "Requirement already satisfied: ipywidgets in c:\\users\\jagjo\\miniconda3\\envs\\udacity\\lib\\site-packages (7.6.5)\n",
      "Requirement already satisfied: nbformat>=4.2.0 in c:\\users\\jagjo\\miniconda3\\envs\\udacity\\lib\\site-packages (from ipywidgets) (5.8.0)\n",
      "Requirement already satisfied: ipython-genutils~=0.2.0 in c:\\users\\jagjo\\miniconda3\\envs\\udacity\\lib\\site-packages (from ipywidgets) (0.2.0)\n",
      "Requirement already satisfied: ipykernel>=4.5.1 in c:\\users\\jagjo\\miniconda3\\envs\\udacity\\lib\\site-packages (from ipywidgets) (6.16.2)\n",
      "Requirement already satisfied: traitlets>=4.3.1 in c:\\users\\jagjo\\miniconda3\\envs\\udacity\\lib\\site-packages (from ipywidgets) (5.9.0)\n",
      "Requirement already satisfied: ipython>=4.0.0 in c:\\users\\jagjo\\miniconda3\\envs\\udacity\\lib\\site-packages (from ipywidgets) (7.34.0)\n",
      "Requirement already satisfied: jupyterlab-widgets>=1.0.0 in c:\\users\\jagjo\\miniconda3\\envs\\udacity\\lib\\site-packages (from ipywidgets) (3.0.8)\n",
      "Requirement already satisfied: widgetsnbextension~=3.5.0 in c:\\users\\jagjo\\miniconda3\\envs\\udacity\\lib\\site-packages (from ipywidgets) (3.5.2)\n",
      "Requirement already satisfied: psutil in c:\\users\\jagjo\\miniconda3\\envs\\udacity\\lib\\site-packages (from ipykernel>=4.5.1->ipywidgets) (5.9.5)\n",
      "Requirement already satisfied: packaging in c:\\users\\jagjo\\miniconda3\\envs\\udacity\\lib\\site-packages (from ipykernel>=4.5.1->ipywidgets) (23.1)\n",
      "Requirement already satisfied: debugpy>=1.0 in c:\\users\\jagjo\\miniconda3\\envs\\udacity\\lib\\site-packages (from ipykernel>=4.5.1->ipywidgets) (1.6.7.post1)\n",
      "Requirement already satisfied: jupyter-client>=6.1.12 in c:\\users\\jagjo\\miniconda3\\envs\\udacity\\lib\\site-packages (from ipykernel>=4.5.1->ipywidgets) (7.4.9)\n",
      "Requirement already satisfied: pyzmq>=17 in c:\\users\\jagjo\\miniconda3\\envs\\udacity\\lib\\site-packages (from ipykernel>=4.5.1->ipywidgets) (24.0.1)\n",
      "Requirement already satisfied: matplotlib-inline>=0.1 in c:\\users\\jagjo\\miniconda3\\envs\\udacity\\lib\\site-packages (from ipykernel>=4.5.1->ipywidgets) (0.1.6)\n",
      "Requirement already satisfied: tornado>=6.1 in c:\\users\\jagjo\\miniconda3\\envs\\udacity\\lib\\site-packages (from ipykernel>=4.5.1->ipywidgets) (6.2)\n",
      "Requirement already satisfied: nest-asyncio in c:\\users\\jagjo\\miniconda3\\envs\\udacity\\lib\\site-packages (from ipykernel>=4.5.1->ipywidgets) (1.5.7)\n",
      "Requirement already satisfied: pygments in c:\\users\\jagjo\\miniconda3\\envs\\udacity\\lib\\site-packages (from ipython>=4.0.0->ipywidgets) (2.16.1)\n",
      "Requirement already satisfied: setuptools>=18.5 in c:\\users\\jagjo\\miniconda3\\envs\\udacity\\lib\\site-packages (from ipython>=4.0.0->ipywidgets) (65.6.3)\n",
      "Requirement already satisfied: backcall in c:\\users\\jagjo\\miniconda3\\envs\\udacity\\lib\\site-packages (from ipython>=4.0.0->ipywidgets) (0.2.0)\n",
      "Requirement already satisfied: decorator in c:\\users\\jagjo\\miniconda3\\envs\\udacity\\lib\\site-packages (from ipython>=4.0.0->ipywidgets) (5.1.1)\n",
      "Requirement already satisfied: prompt-toolkit!=3.0.0,!=3.0.1,<3.1.0,>=2.0.0 in c:\\users\\jagjo\\miniconda3\\envs\\udacity\\lib\\site-packages (from ipython>=4.0.0->ipywidgets) (3.0.39)\n",
      "Requirement already satisfied: jedi>=0.16 in c:\\users\\jagjo\\miniconda3\\envs\\udacity\\lib\\site-packages (from ipython>=4.0.0->ipywidgets) (0.19.0)\n",
      "Requirement already satisfied: colorama in c:\\users\\jagjo\\miniconda3\\envs\\udacity\\lib\\site-packages (from ipython>=4.0.0->ipywidgets) (0.4.6)\n",
      "Requirement already satisfied: pickleshare in c:\\users\\jagjo\\miniconda3\\envs\\udacity\\lib\\site-packages (from ipython>=4.0.0->ipywidgets) (0.7.5)\n",
      "Requirement already satisfied: jupyter-core in c:\\users\\jagjo\\miniconda3\\envs\\udacity\\lib\\site-packages (from nbformat>=4.2.0->ipywidgets) (4.12.0)\n",
      "Requirement already satisfied: jsonschema>=2.6 in c:\\users\\jagjo\\miniconda3\\envs\\udacity\\lib\\site-packages (from nbformat>=4.2.0->ipywidgets) (4.17.3)\n",
      "Requirement already satisfied: importlib-metadata>=3.6 in c:\\users\\jagjo\\miniconda3\\envs\\udacity\\lib\\site-packages (from nbformat>=4.2.0->ipywidgets) (6.7.0)\n",
      "Requirement already satisfied: fastjsonschema in c:\\users\\jagjo\\miniconda3\\envs\\udacity\\lib\\site-packages (from nbformat>=4.2.0->ipywidgets) (2.18.0)\n",
      "Requirement already satisfied: notebook>=4.4.1 in c:\\users\\jagjo\\miniconda3\\envs\\udacity\\lib\\site-packages (from widgetsnbextension~=3.5.0->ipywidgets) (6.5.5)\n",
      "Requirement already satisfied: typing-extensions>=3.6.4 in c:\\users\\jagjo\\miniconda3\\envs\\udacity\\lib\\site-packages (from importlib-metadata>=3.6->nbformat>=4.2.0->ipywidgets) (4.4.0)\n",
      "Requirement already satisfied: zipp>=0.5 in c:\\users\\jagjo\\miniconda3\\envs\\udacity\\lib\\site-packages (from importlib-metadata>=3.6->nbformat>=4.2.0->ipywidgets) (3.15.0)\n",
      "Requirement already satisfied: parso<0.9.0,>=0.8.3 in c:\\users\\jagjo\\miniconda3\\envs\\udacity\\lib\\site-packages (from jedi>=0.16->ipython>=4.0.0->ipywidgets) (0.8.3)\n",
      "Requirement already satisfied: pkgutil-resolve-name>=1.3.10 in c:\\users\\jagjo\\miniconda3\\envs\\udacity\\lib\\site-packages (from jsonschema>=2.6->nbformat>=4.2.0->ipywidgets) (1.3.10)\n",
      "Requirement already satisfied: attrs>=17.4.0 in c:\\users\\jagjo\\miniconda3\\envs\\udacity\\lib\\site-packages (from jsonschema>=2.6->nbformat>=4.2.0->ipywidgets) (23.1.0)\n",
      "Requirement already satisfied: importlib-resources>=1.4.0 in c:\\users\\jagjo\\miniconda3\\envs\\udacity\\lib\\site-packages (from jsonschema>=2.6->nbformat>=4.2.0->ipywidgets) (5.12.0)\n",
      "Requirement already satisfied: pyrsistent!=0.17.0,!=0.17.1,!=0.17.2,>=0.14.0 in c:\\users\\jagjo\\miniconda3\\envs\\udacity\\lib\\site-packages (from jsonschema>=2.6->nbformat>=4.2.0->ipywidgets) (0.19.3)\n",
      "Requirement already satisfied: python-dateutil>=2.8.2 in c:\\users\\jagjo\\miniconda3\\envs\\udacity\\lib\\site-packages (from jupyter-client>=6.1.12->ipykernel>=4.5.1->ipywidgets) (2.8.2)\n",
      "Requirement already satisfied: entrypoints in c:\\users\\jagjo\\miniconda3\\envs\\udacity\\lib\\site-packages (from jupyter-client>=6.1.12->ipykernel>=4.5.1->ipywidgets) (0.4)\n",
      "Requirement already satisfied: pywin32>=1.0 in c:\\users\\jagjo\\miniconda3\\envs\\udacity\\lib\\site-packages (from jupyter-core->nbformat>=4.2.0->ipywidgets) (306)\n",
      "Requirement already satisfied: jinja2 in c:\\users\\jagjo\\miniconda3\\envs\\udacity\\lib\\site-packages (from notebook>=4.4.1->widgetsnbextension~=3.5.0->ipywidgets) (3.1.2)\n",
      "Requirement already satisfied: argon2-cffi in c:\\users\\jagjo\\miniconda3\\envs\\udacity\\lib\\site-packages (from notebook>=4.4.1->widgetsnbextension~=3.5.0->ipywidgets) (23.1.0)\n",
      "Requirement already satisfied: terminado>=0.8.3 in c:\\users\\jagjo\\miniconda3\\envs\\udacity\\lib\\site-packages (from notebook>=4.4.1->widgetsnbextension~=3.5.0->ipywidgets) (0.17.1)\n",
      "Requirement already satisfied: nbclassic>=0.4.7 in c:\\users\\jagjo\\miniconda3\\envs\\udacity\\lib\\site-packages (from notebook>=4.4.1->widgetsnbextension~=3.5.0->ipywidgets) (1.0.0)\n",
      "Requirement already satisfied: Send2Trash>=1.8.0 in c:\\users\\jagjo\\miniconda3\\envs\\udacity\\lib\\site-packages (from notebook>=4.4.1->widgetsnbextension~=3.5.0->ipywidgets) (1.8.2)\n",
      "Requirement already satisfied: nbconvert>=5 in c:\\users\\jagjo\\miniconda3\\envs\\udacity\\lib\\site-packages (from notebook>=4.4.1->widgetsnbextension~=3.5.0->ipywidgets) (7.6.0)\n",
      "Requirement already satisfied: prometheus-client in c:\\users\\jagjo\\miniconda3\\envs\\udacity\\lib\\site-packages (from notebook>=4.4.1->widgetsnbextension~=3.5.0->ipywidgets) (0.17.1)\n",
      "Requirement already satisfied: wcwidth in c:\\users\\jagjo\\miniconda3\\envs\\udacity\\lib\\site-packages (from prompt-toolkit!=3.0.0,!=3.0.1,<3.1.0,>=2.0.0->ipython>=4.0.0->ipywidgets) (0.2.6)\n",
      "Requirement already satisfied: jupyter-server>=1.8 in c:\\users\\jagjo\\miniconda3\\envs\\udacity\\lib\\site-packages (from nbclassic>=0.4.7->notebook>=4.4.1->widgetsnbextension~=3.5.0->ipywidgets) (1.24.0)\n",
      "Requirement already satisfied: notebook-shim>=0.2.3 in c:\\users\\jagjo\\miniconda3\\envs\\udacity\\lib\\site-packages (from nbclassic>=0.4.7->notebook>=4.4.1->widgetsnbextension~=3.5.0->ipywidgets) (0.2.3)\n",
      "Requirement already satisfied: markupsafe>=2.0 in c:\\users\\jagjo\\miniconda3\\envs\\udacity\\lib\\site-packages (from nbconvert>=5->notebook>=4.4.1->widgetsnbextension~=3.5.0->ipywidgets) (2.1.3)\n",
      "Requirement already satisfied: pandocfilters>=1.4.1 in c:\\users\\jagjo\\miniconda3\\envs\\udacity\\lib\\site-packages (from nbconvert>=5->notebook>=4.4.1->widgetsnbextension~=3.5.0->ipywidgets) (1.5.0)\n",
      "Requirement already satisfied: mistune<4,>=2.0.3 in c:\\users\\jagjo\\miniconda3\\envs\\udacity\\lib\\site-packages (from nbconvert>=5->notebook>=4.4.1->widgetsnbextension~=3.5.0->ipywidgets) (3.0.1)\n",
      "Requirement already satisfied: beautifulsoup4 in c:\\users\\jagjo\\miniconda3\\envs\\udacity\\lib\\site-packages (from nbconvert>=5->notebook>=4.4.1->widgetsnbextension~=3.5.0->ipywidgets) (4.12.2)\n",
      "Requirement already satisfied: jupyterlab-pygments in c:\\users\\jagjo\\miniconda3\\envs\\udacity\\lib\\site-packages (from nbconvert>=5->notebook>=4.4.1->widgetsnbextension~=3.5.0->ipywidgets) (0.2.2)\n",
      "Requirement already satisfied: tinycss2 in c:\\users\\jagjo\\miniconda3\\envs\\udacity\\lib\\site-packages (from nbconvert>=5->notebook>=4.4.1->widgetsnbextension~=3.5.0->ipywidgets) (1.2.1)\n",
      "Requirement already satisfied: nbclient>=0.5.0 in c:\\users\\jagjo\\miniconda3\\envs\\udacity\\lib\\site-packages (from nbconvert>=5->notebook>=4.4.1->widgetsnbextension~=3.5.0->ipywidgets) (0.7.4)\n",
      "Requirement already satisfied: defusedxml in c:\\users\\jagjo\\miniconda3\\envs\\udacity\\lib\\site-packages (from nbconvert>=5->notebook>=4.4.1->widgetsnbextension~=3.5.0->ipywidgets) (0.7.1)\n",
      "Requirement already satisfied: bleach!=5.0.0 in c:\\users\\jagjo\\miniconda3\\envs\\udacity\\lib\\site-packages (from nbconvert>=5->notebook>=4.4.1->widgetsnbextension~=3.5.0->ipywidgets) (6.0.0)\n",
      "Requirement already satisfied: six>=1.5 in c:\\users\\jagjo\\miniconda3\\envs\\udacity\\lib\\site-packages (from python-dateutil>=2.8.2->jupyter-client>=6.1.12->ipykernel>=4.5.1->ipywidgets) (1.16.0)\n",
      "Requirement already satisfied: pywinpty>=1.1.0 in c:\\users\\jagjo\\miniconda3\\envs\\udacity\\lib\\site-packages (from terminado>=0.8.3->notebook>=4.4.1->widgetsnbextension~=3.5.0->ipywidgets) (2.0.10)\n",
      "Requirement already satisfied: argon2-cffi-bindings in c:\\users\\jagjo\\miniconda3\\envs\\udacity\\lib\\site-packages (from argon2-cffi->notebook>=4.4.1->widgetsnbextension~=3.5.0->ipywidgets) (21.2.0)\n",
      "Requirement already satisfied: webencodings in c:\\users\\jagjo\\miniconda3\\envs\\udacity\\lib\\site-packages (from bleach!=5.0.0->nbconvert>=5->notebook>=4.4.1->widgetsnbextension~=3.5.0->ipywidgets) (0.5.1)\n",
      "Requirement already satisfied: websocket-client in c:\\users\\jagjo\\miniconda3\\envs\\udacity\\lib\\site-packages (from jupyter-server>=1.8->nbclassic>=0.4.7->notebook>=4.4.1->widgetsnbextension~=3.5.0->ipywidgets) (1.6.1)\n",
      "Requirement already satisfied: anyio<4,>=3.1.0 in c:\\users\\jagjo\\miniconda3\\envs\\udacity\\lib\\site-packages (from jupyter-server>=1.8->nbclassic>=0.4.7->notebook>=4.4.1->widgetsnbextension~=3.5.0->ipywidgets) (3.7.1)\n",
      "Requirement already satisfied: cffi>=1.0.1 in c:\\users\\jagjo\\miniconda3\\envs\\udacity\\lib\\site-packages (from argon2-cffi-bindings->argon2-cffi->notebook>=4.4.1->widgetsnbextension~=3.5.0->ipywidgets) (1.15.1)\n",
      "Requirement already satisfied: soupsieve>1.2 in c:\\users\\jagjo\\miniconda3\\envs\\udacity\\lib\\site-packages (from beautifulsoup4->nbconvert>=5->notebook>=4.4.1->widgetsnbextension~=3.5.0->ipywidgets) (2.4.1)\n",
      "Requirement already satisfied: idna>=2.8 in c:\\users\\jagjo\\miniconda3\\envs\\udacity\\lib\\site-packages (from anyio<4,>=3.1.0->jupyter-server>=1.8->nbclassic>=0.4.7->notebook>=4.4.1->widgetsnbextension~=3.5.0->ipywidgets) (3.4)\n",
      "Requirement already satisfied: exceptiongroup in c:\\users\\jagjo\\miniconda3\\envs\\udacity\\lib\\site-packages (from anyio<4,>=3.1.0->jupyter-server>=1.8->nbclassic>=0.4.7->notebook>=4.4.1->widgetsnbextension~=3.5.0->ipywidgets) (1.1.3)\n",
      "Requirement already satisfied: sniffio>=1.1 in c:\\users\\jagjo\\miniconda3\\envs\\udacity\\lib\\site-packages (from anyio<4,>=3.1.0->jupyter-server>=1.8->nbclassic>=0.4.7->notebook>=4.4.1->widgetsnbextension~=3.5.0->ipywidgets) (1.3.0)\n",
      "Requirement already satisfied: pycparser in c:\\users\\jagjo\\miniconda3\\envs\\udacity\\lib\\site-packages (from cffi>=1.0.1->argon2-cffi-bindings->argon2-cffi->notebook>=4.4.1->widgetsnbextension~=3.5.0->ipywidgets) (2.21)\n"
     ]
    }
   ],
   "source": [
    "!pip install ipywidgets"
   ]
  },
  {
   "cell_type": "code",
   "execution_count": 2,
   "id": "0ab19c32-9d15-43db-a60e-babcfcd48b2e",
   "metadata": {},
   "outputs": [
    {
     "name": "stdout",
     "output_type": "stream",
     "text": [
      "Name: ipywidgets\n",
      "Version: 7.6.5\n",
      "Summary: IPython HTML widgets for Jupyter\n",
      "Home-page: http://ipython.org\n",
      "Author: IPython Development Team\n",
      "Author-email: ipython-dev@scipy.org\n",
      "License: BSD\n",
      "Location: c:\\users\\jagjo\\miniconda3\\envs\\udacity\\lib\\site-packages\n",
      "Requires: ipykernel, ipython, ipython-genutils, jupyterlab-widgets, nbformat, traitlets, widgetsnbextension\n",
      "Required-by: \n"
     ]
    }
   ],
   "source": [
    "!pip show ipywidgets"
   ]
  },
  {
   "cell_type": "code",
   "execution_count": 3,
   "id": "ff553831-04d6-40f6-be77-1bbac5027c09",
   "metadata": {},
   "outputs": [
    {
     "name": "stdout",
     "output_type": "stream",
     "text": [
      "Requirement already satisfied: ipywidgets in c:\\users\\jagjo\\miniconda3\\envs\\udacity\\lib\\site-packages (7.6.5)\n",
      "Collecting ipywidgets\n",
      "  Downloading ipywidgets-8.1.0-py3-none-any.whl (139 kB)\n",
      "     ------------------------------------ 139.3/139.3 kB 413.7 kB/s eta 0:00:00\n",
      "Requirement already satisfied: traitlets>=4.3.1 in c:\\users\\jagjo\\miniconda3\\envs\\udacity\\lib\\site-packages (from ipywidgets) (5.9.0)\n",
      "Requirement already satisfied: jupyterlab-widgets~=3.0.7 in c:\\users\\jagjo\\miniconda3\\envs\\udacity\\lib\\site-packages (from ipywidgets) (3.0.8)\n",
      "Requirement already satisfied: ipython>=6.1.0 in c:\\users\\jagjo\\miniconda3\\envs\\udacity\\lib\\site-packages (from ipywidgets) (7.34.0)\n",
      "Collecting widgetsnbextension~=4.0.7\n",
      "  Downloading widgetsnbextension-4.0.8-py3-none-any.whl (2.3 MB)\n",
      "     ---------------------------------------- 2.3/2.3 MB 558.5 kB/s eta 0:00:00\n",
      "Collecting comm>=0.1.3\n",
      "  Downloading comm-0.1.4-py3-none-any.whl (6.6 kB)\n",
      "Requirement already satisfied: jedi>=0.16 in c:\\users\\jagjo\\miniconda3\\envs\\udacity\\lib\\site-packages (from ipython>=6.1.0->ipywidgets) (0.19.0)\n",
      "Requirement already satisfied: decorator in c:\\users\\jagjo\\miniconda3\\envs\\udacity\\lib\\site-packages (from ipython>=6.1.0->ipywidgets) (5.1.1)\n",
      "Requirement already satisfied: pygments in c:\\users\\jagjo\\miniconda3\\envs\\udacity\\lib\\site-packages (from ipython>=6.1.0->ipywidgets) (2.16.1)\n",
      "Requirement already satisfied: backcall in c:\\users\\jagjo\\miniconda3\\envs\\udacity\\lib\\site-packages (from ipython>=6.1.0->ipywidgets) (0.2.0)\n",
      "Requirement already satisfied: matplotlib-inline in c:\\users\\jagjo\\miniconda3\\envs\\udacity\\lib\\site-packages (from ipython>=6.1.0->ipywidgets) (0.1.6)\n",
      "Requirement already satisfied: prompt-toolkit!=3.0.0,!=3.0.1,<3.1.0,>=2.0.0 in c:\\users\\jagjo\\miniconda3\\envs\\udacity\\lib\\site-packages (from ipython>=6.1.0->ipywidgets) (3.0.39)\n",
      "Requirement already satisfied: colorama in c:\\users\\jagjo\\miniconda3\\envs\\udacity\\lib\\site-packages (from ipython>=6.1.0->ipywidgets) (0.4.6)\n",
      "Requirement already satisfied: setuptools>=18.5 in c:\\users\\jagjo\\miniconda3\\envs\\udacity\\lib\\site-packages (from ipython>=6.1.0->ipywidgets) (65.6.3)\n",
      "Requirement already satisfied: pickleshare in c:\\users\\jagjo\\miniconda3\\envs\\udacity\\lib\\site-packages (from ipython>=6.1.0->ipywidgets) (0.7.5)\n",
      "Requirement already satisfied: parso<0.9.0,>=0.8.3 in c:\\users\\jagjo\\miniconda3\\envs\\udacity\\lib\\site-packages (from jedi>=0.16->ipython>=6.1.0->ipywidgets) (0.8.3)\n",
      "Requirement already satisfied: wcwidth in c:\\users\\jagjo\\miniconda3\\envs\\udacity\\lib\\site-packages (from prompt-toolkit!=3.0.0,!=3.0.1,<3.1.0,>=2.0.0->ipython>=6.1.0->ipywidgets) (0.2.6)\n",
      "Installing collected packages: widgetsnbextension, comm, ipywidgets\n",
      "  Attempting uninstall: widgetsnbextension\n",
      "    Found existing installation: widgetsnbextension 3.5.2\n",
      "    Uninstalling widgetsnbextension-3.5.2:\n",
      "      Successfully uninstalled widgetsnbextension-3.5.2\n",
      "  Attempting uninstall: ipywidgets\n",
      "    Found existing installation: ipywidgets 7.6.5\n",
      "    Uninstalling ipywidgets-7.6.5:\n",
      "      Successfully uninstalled ipywidgets-7.6.5\n",
      "Successfully installed comm-0.1.4 ipywidgets-8.1.0 widgetsnbextension-4.0.8\n"
     ]
    }
   ],
   "source": [
    "!pip install --upgrade ipywidgets"
   ]
  },
  {
   "cell_type": "code",
   "execution_count": 4,
   "id": "c2409f44-6803-4027-9cc4-32673b26f261",
   "metadata": {},
   "outputs": [
    {
     "name": "stderr",
     "output_type": "stream",
     "text": [
      "Enabling notebook extension jupyter-js-widgets/extension...\n",
      "      - Validating: ok\n"
     ]
    }
   ],
   "source": [
    "!jupyter nbextension enable --py widgetsnbextension"
   ]
  },
  {
   "cell_type": "code",
   "execution_count": 6,
   "id": "bda5a833",
   "metadata": {},
   "outputs": [
    {
     "data": {
      "application/vnd.jupyter.widget-view+json": {
       "model_id": "eea37f3e7a6f4b1eb40ca60f4eb0c3c5",
       "version_major": 2,
       "version_minor": 0
      },
      "text/plain": [
       "VBox(children=(Label(value='Please upload a picture of a landmark'), FileUpload(value=(), description='Upload'…"
      ]
     },
     "execution_count": 6,
     "metadata": {},
     "output_type": "execute_result"
    }
   ],
   "source": [
    "from ipywidgets import VBox, Button, FileUpload, Output, Label\n",
    "from PIL import Image\n",
    "from IPython.display import display\n",
    "import io\n",
    "import numpy as np\n",
    "import torchvision\n",
    "import torchvision.transforms as T\n",
    "import torch\n",
    "\n",
    "# Decide which model you want to use among the ones exported\n",
    "learn_inf = torch.jit.load(\"checkpoints/transfer_exported.pt\")\n",
    "\n",
    "def on_click_classify(change):\n",
    "\n",
    "    # Load image that has been uploaded\n",
    "    fn = io.BytesIO(btn_upload.data[-1])\n",
    "\n",
    "    img = Image.open(fn)\n",
    "    img.load()\n",
    "\n",
    "    # Let's clear the previous output (if any)\n",
    "    out_pl.clear_output()\n",
    "\n",
    "    # Display the image\n",
    "    with out_pl:\n",
    "\n",
    "        ratio = img.size[0] / img.size[1]\n",
    "        c = img.copy()\n",
    "        c.thumbnail([ratio * 200, 200])\n",
    "        display(c)\n",
    "\n",
    "    # Transform to tensor\n",
    "    timg = T.ToTensor()(img).unsqueeze_(0)\n",
    "\n",
    "    # Calling the model\n",
    "    softmax = learn_inf(timg).data.cpu().numpy().squeeze()\n",
    "    \n",
    "    # Get the indexes of the classes ordered by softmax\n",
    "    # (larger first)\n",
    "    idxs = np.argsort(softmax)[::-1]\n",
    "    \n",
    "    # Loop over the classes with the largest softmax\n",
    "    for i in range(5):\n",
    "        # Get softmax value\n",
    "        p = softmax[idxs[i]]\n",
    "    \n",
    "        # Get class name\n",
    "        landmark_name = learn_inf.class_names[idxs[i]]\n",
    "        \n",
    "        labels[i].value = f\"{landmark_name} (prob: {p:.2f})\"\n",
    "\n",
    "\n",
    "# Putting back btn_upload to a widget for next cell\n",
    "btn_upload = FileUpload()\n",
    "\n",
    "btn_run = Button(description=\"Classify\")\n",
    "btn_run.on_click(on_click_classify)\n",
    "\n",
    "labels = []\n",
    "for _ in range(5):\n",
    "    labels.append(Label())\n",
    "\n",
    "out_pl = Output()\n",
    "out_pl.clear_output()\n",
    "\n",
    "wgs = [Label(\"Please upload a picture of a landmark\"), btn_upload, btn_run, out_pl]\n",
    "wgs.extend(labels)\n",
    "\n",
    "VBox(wgs)\n"
   ]
  },
  {
   "cell_type": "markdown",
   "id": "267f9867",
   "metadata": {},
   "source": [
    "## (optional) Standalone app or web app\n",
    "\n",
    "You can run this notebook as a standalone app on your computer by following these steps:\n",
    "\n",
    "1. Download this notebook in a directory on your machine\n",
    "2. Download the model export (for example, ``checkpoints/transfer_exported.pt``) in a subdirectory called ``checkpoints`` within the directory where you save the app.ipynb notebook\n",
    "3. Install voila if you don't have it already (``pip install voila``)\n",
    "4. Run your app: ``voila app.ipynb --show_tracebacks=True``\n",
    "5. Customize your notebook to make your app prettier and rerun voila\n",
    "\n",
    "You can also deploy this app as a website using Binder: https://voila.readthedocs.io/en/stable/deploy.html#deployment-on-binder"
   ]
  },
  {
   "cell_type": "markdown",
   "id": "3f87207e",
   "metadata": {},
   "source": [
    "# Create your submission archive\n",
    "\n",
    "Now that you are done with your project, please run the following cell. It will generate a file containing all the code you have written, as well as the notebooks. Please submit that file to complete your project"
   ]
  },
  {
   "cell_type": "code",
   "execution_count": 7,
   "id": "5cbba984",
   "metadata": {},
   "outputs": [
    {
     "name": "stdout",
     "output_type": "stream",
     "text": [
      "executing: jupyter nbconvert --to html app.ipynb\n",
      "executing: jupyter nbconvert --to html cnn_from_scratch.ipynb\n",
      "executing: jupyter nbconvert --to html transfer_learning.ipynb\n",
      "Adding files to submission_2023-08-19T00h46m.tar.gz\n",
      "src\\create_submit_pkg.py\n",
      "src\\data.py\n",
      "src\\helpers.py\n",
      "src\\model.py\n",
      "src\\optimization.py\n",
      "src\\predictor.py\n",
      "src\\train.py\n",
      "src\\transfer.py\n",
      "src\\__init__.py\n",
      "app.ipynb\n",
      "cnn_from_scratch.ipynb\n",
      "transfer_learning.ipynb\n",
      "app.html\n",
      "cnn_from_scratch.html\n",
      "transfer_learning.html\n",
      "\n",
      "----------------------------------------------------------------\n",
      "Done. Please submit the file submission_2023-08-19T00h46m.tar.gz\n",
      "----------------------------------------------------------------\n"
     ]
    },
    {
     "name": "stderr",
     "output_type": "stream",
     "text": [
      "[NbConvertApp] Converting notebook app.ipynb to html\n",
      "[NbConvertApp] Writing 644528 bytes to app.html\n",
      "[NbConvertApp] Converting notebook cnn_from_scratch.ipynb to html\n",
      "[NbConvertApp] Writing 1904735 bytes to cnn_from_scratch.html\n",
      "[NbConvertApp] Converting notebook transfer_learning.ipynb to html\n",
      "[NbConvertApp] Writing 831489 bytes to transfer_learning.html\n"
     ]
    }
   ],
   "source": [
    "!python src/create_submit_pkg.py"
   ]
  },
  {
   "cell_type": "code",
   "execution_count": null,
   "id": "5948d9a3",
   "metadata": {},
   "outputs": [],
   "source": []
  }
 ],
 "metadata": {
  "kernelspec": {
   "display_name": "Python 3 (ipykernel)",
   "language": "python",
   "name": "python3"
  },
  "language_info": {
   "codemirror_mode": {
    "name": "ipython",
    "version": 3
   },
   "file_extension": ".py",
   "mimetype": "text/x-python",
   "name": "python",
   "nbconvert_exporter": "python",
   "pygments_lexer": "ipython3",
   "version": "3.7.6"
  },
  "widgets": {
   "application/vnd.jupyter.widget-state+json": {
    "state": {},
    "version_major": 2,
    "version_minor": 0
   }
  }
 },
 "nbformat": 4,
 "nbformat_minor": 5
}
